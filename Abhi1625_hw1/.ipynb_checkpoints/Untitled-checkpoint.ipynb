{
 "cells": [
  {
   "cell_type": "code",
   "execution_count": 28,
   "metadata": {},
   "outputs": [],
   "source": [
    "\"\"\"\n",
    "CMSC733: Classical and Deep Learning Approaches for Computer Vision\n",
    "Homework 1: AutoCalib: Camera Caliberation using Checkerboard\n",
    "\n",
    "Author:\n",
    "Abhinav Modi (abhi1625@umd.edu)\n",
    "Graduate Student pursuing Masters in Robotics,\n",
    "University of Maryland, College Park\n",
    "\"\"\"\n",
    "\n",
    "try:\n",
    "    sys.path.remove('/opt/ros/kinetic/lib/python2.7/dist-packages')\n",
    "except:\n",
    "    pass\n",
    "\n",
    "import cv2\n",
    "import numpy as np\n",
    "import math\n",
    "import matplotlib.pyplot as plt\n",
    "# from scipy.optimize\n",
    "import glob\n",
    "#Find Intrinsic parameters\n",
    "def v(H,i,j):\n",
    "    v = np.array([[H[0][i]*H[0][j]],\n",
    "                  [H[0][i]*H[1][j] + H[0][j]*H[1][i]],\n",
    "                  [H[1][i]*H[1][j]],\n",
    "                  [H[2][i]*H[0][j] + H[0][i]*H[2][j]],\n",
    "                  [H[2][i]*H[1][j] + H[1][i]*H[2][j]],\n",
    "                  [H[2][i]*H[2][j]]])\n",
    "    return np.reshape(v,(6,1))\n",
    "def find_K(Homography):\n",
    "    \"\"\"\n",
    "    Input H: 3D array with 3rd dimension as\n",
    "    the number of Homography matrices observed\n",
    "    \"\"\"\n",
    "    V_n = np.zeros([1,6])\n",
    "    for i in range(Homography.shape[2]):\n",
    "\n",
    "        V = np.vstack([v(Homography[:,:,i],0,1).T,\n",
    "                      (v(Homography[:,:,i],0,0)-v(Homography[:,:,i],1,1)).T])\n",
    "        # print(V.shape)\n",
    "\n",
    "        V_n = np.concatenate([V_n,V],axis=0)\n",
    "    print(V_n.shape)\n",
    "    V_n = V_n[1:]\n",
    "    U,S,V = np.linalg.svd(V_n)\n",
    "    # print(U)\n",
    "    # print(V)\n",
    "    # print(S)\n",
    "    # print(V[5][5])\n",
    "    b = V[:][5]\n",
    "    print(b)\n",
    "    B = np.zeros([3,3])\n",
    "    B[0][0]=b[0]\n",
    "    B[0][1]=b[1]\n",
    "    B[1][0]=b[1]\n",
    "    B[0][2]=b[3]\n",
    "    B[2][0]=b[3]\n",
    "    B[1][1]=b[2]\n",
    "    B[1][2]=b[4]\n",
    "    B[2][1]=b[4]\n",
    "    B[2][2]=b[5]\n",
    "    print(b[1])\n",
    "    #Define K\n",
    "\n",
    "    v0 = (B[0][1]*B[0][2] - B[0][0]*B[1][2])/(B[0][0]*B[1][1]-B[0][1]**2)\n",
    "\n",
    "    lam = (B[2][2]-((B[0][2]**2)+v0*(B[0][1]*B[0][2] - B[0][0]*B[1][2]))/B[0][0])\n",
    "    print(lam)\n",
    "    alp = math.sqrt(lam/B[0][0])\n",
    "    beta = math.sqrt(((lam*B[0][0])/(B[0][0]*B[1][1] - B[0][1]**2)))\n",
    "    # print(beta)\n",
    "    gamma = -(B[0][1])*(alp**2)*beta/lam\n",
    "    u0 = (gamma*v0/beta) - (B[0][2]*alp**2)/lam\n",
    "\n",
    "    K = np.array([[alp, gamma, u0],\n",
    "                  [0,   beta,  v0],\n",
    "                  [0,   0,      1]])\n",
    "    return K\n",
    "\n",
    "def mat_params(K,H_image):\n",
    "    Kinv = np.linalg.inv(K)\n",
    "    Ah_hat = np.matmul(Kinv,H_image)  #K inv and columns of H\n",
    "    lam = ((np.linalg.norm(np.matmul(Kinv,H_image[:,0]))+(np.linalg.norm(np.matmul(Kinv,H_image[:,1]))))/2)\n",
    "    # print(\"lam\", 1/lam)\n",
    "\n",
    "    sgn = np.linalg.det(Ah_hat)\n",
    "    if sgn<0:\n",
    "        s = Ah_hat*-1/lam\n",
    "    elif sgn>=0:\n",
    "        s = Ah_hat/lam\n",
    "    r1 = s[:,0]\n",
    "    r2 = s[:,1]\n",
    "    r3 = np.cross(r1,r2)\n",
    "    t = s[:,2]\n",
    "#     t = t/t[2]\n",
    "    print(r1)\n",
    "    Q = np.array([r1,r2,r3]).T\n",
    "    print(Q)\n",
    "    #Finding Rotation MAtrix from a 3x3 Matrix\n",
    "    u,s,v =np.linalg.svd(Q)\n",
    "    R = np.matmul(u,v)\n",
    "    print(R.shape)\n",
    "    print(t.shape)\n",
    "    return np.hstack([R,np.reshape(t,(1,3)).T])\n",
    "\n",
    "\n",
    "\n",
    "\n",
    "\n",
    "# def main():\n",
    "#     img_list = [cv2.imread(file) for file in glob.glob('./Calibration_Imgs/*.jpg')]\n",
    "#     corner_points = []\n",
    "#     world_xy = np.array([[21.5, 21.5],\n",
    "#                          [21.5*8,21.5],\n",
    "#                          [21.5*8, 21.5*6],\n",
    "#                          [21.5,21.5*6]], dtype='float32')\n",
    "\n",
    "#     Homographies = np.zeros([3,3])\n",
    "#     for image in img_list:\n",
    "#         gray = cv2.cvtColor(image,cv2.COLOR_BGR2GRAY)\n",
    "\n",
    "#         #Find Corners:\n",
    "#         ret, corners = cv2.findChessboardCorners(gray,(9,6),None)\n",
    "#         corner_points.extend(corners)\n",
    "#         # corners[0][0][0]\n",
    "#         cv2.circle(image,(corners[0][0][0],corners[0][0][1]),20,[255,0,255])\n",
    "#         #corresponding world_xy = [21.5,21.5]\n",
    "#         # cv2.circle(image,(corners[8][0][0],corners[8][0][1]),20,[255,0,255])\n",
    "#         #corresponding world_xy = [193.5,21.5]\n",
    "#         # cv2.circle(image,(corners[53][0][0],corners[53][0][1]),20,[255,0,255])\n",
    "#         #corresponding world_xy = [193.5,129]\n",
    "#         # cv2.circle(image,(corners[45][0][0],corners[45][0][1]),20,[255,0,255])\n",
    "#         #corresponding world_xy = [21.5,129]\n",
    "#         img_dst= np.array([[corners[0][0]],\n",
    "#                            [corners[8][0]],\n",
    "#                            [corners[53][0]],\n",
    "#                            [corners[45][0]]],dtype='float32')\n",
    "#         H_image_world,status = cv2.findHomography(world_xy,img_dst)\n",
    "#         # H_image_world = cv2.getPerspectiveTransform(img_dst,world_xy)\n",
    "#         print(H_image_world.shape)\n",
    "#         Homographies = np.dstack([Homographies,H_image_world])\n",
    "#         # warped_image = cv2.warpPerspective(image,H_image_world,(image.shape[1],image.shape[0]))\n",
    "#         # test = cv2.cvtColor(warped_image, cv2.COLOR_BGR2RGB)\n",
    "#         # plt.imshow(image)\n",
    "#         # cv2.imshow('out',warped_image)\n",
    "#         # plt.show()\n",
    "#         # print(corners[0])\n",
    "\n",
    "#         # if cv2.waitKey(00)==ord('q'):\n",
    "#             # break/\n",
    "#         # print(corners)\n",
    "#     print(Homographies.shape)\n",
    "\n",
    "#     # corner_points = np.array(corner_points)\n",
    "#     # corner_points = np.insert(corner_points,2,1,axis =2)\n",
    "#     # corner_points = np.reshape(corner_points,(corner_points.shape[0],3))\n",
    "#     # print(corner_points[0])\n",
    "#     # print(corner_points.shape)\n",
    "\n",
    "\n",
    "#     # print('Finding K')\n",
    "#     # print(Homographies[:,:,0])\n",
    "#     #Intrinsic Camera parameters\n",
    "#     A = find_K(Homographies[:,:,1:])\n",
    "#     print(A)\n",
    "\n",
    "#     #For Image 1 find the extrinsic parameters\n",
    "#     Rt = mat_params(A,Homographies[:,:,1])\n",
    "#     print(Rt)\n",
    "# # if __name__ == '__main__':\n",
    "# #     main()\n"
   ]
  },
  {
   "cell_type": "code",
   "execution_count": 29,
   "metadata": {
    "scrolled": true
   },
   "outputs": [
    {
     "name": "stdout",
     "output_type": "stream",
     "text": [
      "(3, 3)\n",
      "(3, 3)\n",
      "(3, 3)\n",
      "(3, 3)\n",
      "(3, 3)\n",
      "(3, 3)\n",
      "(3, 3)\n",
      "(3, 3)\n",
      "(3, 3)\n",
      "(3, 3)\n",
      "(3, 3)\n",
      "(3, 3)\n",
      "(3, 3)\n",
      "(3, 3, 14)\n",
      "[5.990835e+02 1.605631e+03 1.000000e+00]\n",
      "(27, 6)\n",
      "[ 1.51059843e-07 -3.69160636e-11  1.53592657e-07 -1.16674367e-04\n",
      " -2.08997173e-04  9.99999971e-01]\n",
      "-3.691606356686002e-11\n",
      "0.625418947508096\n",
      "[[2.03474975e+03 4.93135946e-01 7.72704407e+02]\n",
      " [0.00000000e+00 2.01790308e+03 1.36090945e+03]\n",
      " [0.00000000e+00 0.00000000e+00 1.00000000e+00]]\n",
      "[-0.10584897 -0.9944728   0.05885822]\n",
      "[[-0.10584897  0.68560479  0.71547363]\n",
      " [-0.9944728  -0.14475453 -0.03489274]\n",
      " [ 0.05885822 -0.71088283  0.69713743]]\n",
      "(3, 3)\n",
      "(3,)\n",
      "[[-1.15824005e-01  6.88644851e-01  7.15788425e-01 -5.29239760e+01]\n",
      " [-9.90850903e-01 -1.30368378e-01 -3.49080912e-02  8.19776359e+01]\n",
      " [ 6.92768988e-02 -7.13282802e-01  6.97444159e-01  4.88017034e+02]]\n"
     ]
    }
   ],
   "source": [
    "img_list = [cv2.imread(file) for file in glob.glob('./Calibration_Imgs/*.jpg')]\n",
    "corner_points = []\n",
    "world_xy = np.array([[21.5, 21.5],\n",
    "                     [21.5*9,21.5],\n",
    "                     [21.5*9, 21.5*6],\n",
    "                     [21.5,21.5*6]], dtype='float32')\n",
    "\n",
    "Homographies = np.zeros([3,3])\n",
    "for image in img_list:\n",
    "    gray = cv2.cvtColor(image,cv2.COLOR_BGR2GRAY)\n",
    "\n",
    "    #Find Corners:\n",
    "    ret, corners = cv2.findChessboardCorners(gray,(9,6),None)\n",
    "    corner_points.extend(corners)\n",
    "    # corners[0][0][0]\n",
    "    cv2.circle(image,(corners[0][0][0],corners[0][0][1]),20,[255,0,255])\n",
    "    #corresponding world_xy = [21.5,21.5]\n",
    "    # cv2.circle(image,(corners[8][0][0],corners[8][0][1]),20,[255,0,255])\n",
    "    #corresponding world_xy = [193.5,21.5]\n",
    "    # cv2.circle(image,(corners[53][0][0],corners[53][0][1]),20,[255,0,255])\n",
    "    #corresponding world_xy = [193.5,129]\n",
    "    # cv2.circle(image,(corners[45][0][0],corners[45][0][1]),20,[255,0,255])\n",
    "    #corresponding world_xy = [21.5,129]\n",
    "    img_dst= np.array([[corners[0][0]],\n",
    "                       [corners[8][0]],\n",
    "                       [corners[53][0]],\n",
    "                       [corners[45][0]]],dtype='float32')\n",
    "    H_image_world,status = cv2.findHomography(world_xy,img_dst)\n",
    "#     H_image_world,status = cv2.findHomography(img_dst,world_xy)\n",
    "    print(H_image_world.shape)\n",
    "    Homographies = np.dstack([Homographies,H_image_world])\n",
    "    # warped_image = cv2.warpPerspective(image,H_image_world,(image.shape[1],image.shape[0]))\n",
    "    # test = cv2.cvtColor(warped_image, cv2.COLOR_BGR2RGB)\n",
    "    # plt.imshow(image)\n",
    "    # cv2.imshow('out',warped_image)\n",
    "    # plt.show()\n",
    "    # print(corners[0])\n",
    "\n",
    "    # if cv2.waitKey(00)==ord('q'):\n",
    "        # break/\n",
    "    # print(corners)\n",
    "print(Homographies.shape)\n",
    "\n",
    "corner_points = np.array(corner_points)\n",
    "corner_points = np.insert(corner_points,2,1,axis =2)\n",
    "corner_points = np.reshape(corner_points,(corner_points.shape[0],3))\n",
    "print(corner_points[0])\n",
    "# print(corner_points.shape)\n",
    "\n",
    "\n",
    "# print('Finding K')\n",
    "# print(Homographies[:,:,0])\n",
    "#Intrinsic Camera parameters\n",
    "A = find_K(Homographies[:,:,1:])\n",
    "print(A)\n",
    "\n",
    "#For Image 1 find the extrinsic parameters\n",
    "Rt = mat_params(A,Homographies[:,:,1])\n",
    "print(Rt)\n",
    "\n",
    "reproj = np.matmul(np.matmul(A,Rt),np.reshape(np.array([21.5,21.5,0,1]),(4,1)))\n"
   ]
  },
  {
   "cell_type": "code",
   "execution_count": null,
   "metadata": {},
   "outputs": [],
   "source": []
  },
  {
   "cell_type": "code",
   "execution_count": 4,
   "metadata": {},
   "outputs": [
    {
     "data": {
      "text/plain": [
       "array([[5.98507203e+02],\n",
       "       [1.60718967e+03],\n",
       "       [1.00000000e+00]])"
      ]
     },
     "execution_count": 4,
     "metadata": {},
     "output_type": "execute_result"
    }
   ],
   "source": [
    "xy"
   ]
  },
  {
   "cell_type": "code",
   "execution_count": 5,
   "metadata": {},
   "outputs": [
    {
     "data": {
      "text/plain": [
       "array([[5.98507203e+02],\n",
       "       [1.60718967e+03],\n",
       "       [1.00000000e+00]])"
      ]
     },
     "execution_count": 5,
     "metadata": {},
     "output_type": "execute_result"
    }
   ],
   "source": [
    "xy"
   ]
  },
  {
   "cell_type": "code",
   "execution_count": 6,
   "metadata": {},
   "outputs": [],
   "source": [
    "At = np.reshape(A,(3,3))"
   ]
  },
  {
   "cell_type": "code",
   "execution_count": 7,
   "metadata": {},
   "outputs": [
    {
     "data": {
      "text/plain": [
       "array([[2.03474975e+03, 4.93135946e-01, 7.72704407e+02],\n",
       "       [0.00000000e+00, 2.01790308e+03, 1.36090945e+03],\n",
       "       [0.00000000e+00, 0.00000000e+00, 1.00000000e+00]])"
      ]
     },
     "execution_count": 7,
     "metadata": {},
     "output_type": "execute_result"
    }
   ],
   "source": [
    "At"
   ]
  },
  {
   "cell_type": "code",
   "execution_count": 74,
   "metadata": {},
   "outputs": [],
   "source": [
    "def parameters(A,Rt,k1,k2):\n",
    "    a1 = np.reshape(A,(A.shape[0]*A.shape[1],1))\n",
    "#     a2 = np.reshape(Rt,(Rt.shape[0]*Rt.shape[1],1))\n",
    "    a3 = np.reshape(np.array([k1,k2]),(2,1))\n",
    "    param = np.concatenate([a1,a3])\n",
    "    return param"
   ]
  },
  {
   "cell_type": "code",
   "execution_count": 31,
   "metadata": {},
   "outputs": [
    {
     "data": {
      "text/plain": [
       "array([[2.03474975e+03],\n",
       "       [4.93135946e-01],\n",
       "       [7.72704407e+02],\n",
       "       [0.00000000e+00],\n",
       "       [2.01790308e+03],\n",
       "       [1.36090945e+03],\n",
       "       [0.00000000e+00],\n",
       "       [0.00000000e+00],\n",
       "       [1.00000000e+00],\n",
       "       [0.00000000e+00],\n",
       "       [0.00000000e+00]])"
      ]
     },
     "execution_count": 31,
     "metadata": {},
     "output_type": "execute_result"
    }
   ],
   "source": [
    "params = params(A,Rt,0,0)\n",
    "params"
   ]
  },
  {
   "cell_type": "code",
   "execution_count": 32,
   "metadata": {},
   "outputs": [],
   "source": [
    "def fun(params,corners,Homographies):\n",
    "#     world_x = 21.5*np.linspace(1,9,9)\n",
    "#     world_y = 21.5*np.linspace(1,6,6)    \n",
    "    A = np.reshape(params[:9],(3,3))\n",
    "    K = np.reshape(params[9:11],(2,1))\n",
    "    w_xy = []\n",
    "    for i in range(6):\n",
    "        for j in range(9):\n",
    "    #             print(j,i)\n",
    "            w_xy.append([21.5*(j+1),21.5*(i+1),0,1])\n",
    "    w_xyz = np.array(w_xy)\n",
    "    error=[]\n",
    "    for i in range(Homographies.shape[2]):\n",
    "        Rt = mat_params(A,Homographies[:,:,i])\n",
    "        img_pts = np.matmul(np.matmul(A,Rt),w_xyz.T)\n",
    "        u_hat = img_pts[0] + (img_pts[0] - A[0][2])*[(K[0]*((img_pts[0]/img_pts[2])**2 + (img_pts[1]/img_pts[2])**2)) +\n",
    "                                                        (K[1]*((img_pts[0]/img_pts[2])**2 + (img_pts[1]/img_pts[2])**2)**2)]\n",
    "        v_hat = img_pts[1] + (img_pts[1] - A[1][2])*[(K[0]*((img_pts[0]/img_pts[2])**2 + (img_pts[1]/img_pts[2])**2)) +\n",
    "                                                        (K[1]*((img_pts[0]/img_pts[2])**2 + (img_pts[1]/img_pts[2])**2)**2)]\n",
    "        \n",
    "        proj = corners[:54,0:2]\n",
    "        reproj = np.hstack([u_hat,v_hat])\n",
    "        error.append(u_hat-corners[:54][0])"
   ]
  },
  {
   "cell_type": "code",
   "execution_count": null,
   "metadata": {},
   "outputs": [],
   "source": [
    "def distortion(K, P, H_image, src_pts,dst_pts,k1,k2):\n",
    "\n",
    "    #Find m_hat\n",
    "    img_pts = np.matmul(np.matmul(K,P),src_pts)\n",
    "    u_hat = img_pts[0,:] + (img_pts[0,:] - K[0][2])*[(k1*((img_pts[0]/K[0][0])**2 + (img_pts[1]/K[1][1])**2)) +\n",
    "                                                (k2*((img_pts[0]/K[0][0])**2 + (img_pts[1]/K[1][1])**2)**2)]\n",
    "    v_hat = img_pts[1,:] + (img_pts[1,:] - K[1][2])*[(k1*((img_pts[0]/K[0][0])**2 + (img_pts[1]/K[1][1])**2)) +\n",
    "                                                (k2*((img_pts[0]/K[0][0])**2 + (img_pts[1]/K[1][1])**2)**2)]\n",
    " \n",
    "    print u_hat, v_hat"
   ]
  },
  {
   "cell_type": "code",
   "execution_count": 13,
   "metadata": {},
   "outputs": [],
   "source": [
    "proj = corner_points[:54,0:2]"
   ]
  },
  {
   "cell_type": "code",
   "execution_count": 15,
   "metadata": {
    "scrolled": true
   },
   "outputs": [
    {
     "ename": "NameError",
     "evalue": "name 'u_hat' is not defined",
     "output_type": "error",
     "traceback": [
      "\u001b[0;31m---------------------------------------------------------------------------\u001b[0m",
      "\u001b[0;31mNameError\u001b[0m                                 Traceback (most recent call last)",
      "\u001b[0;32m<ipython-input-15-e6550dccee7a>\u001b[0m in \u001b[0;36m<module>\u001b[0;34m()\u001b[0m\n\u001b[0;32m----> 1\u001b[0;31m \u001b[0mu_hat\u001b[0m\u001b[0;34m.\u001b[0m\u001b[0mshape\u001b[0m\u001b[0;34m\u001b[0m\u001b[0m\n\u001b[0m",
      "\u001b[0;31mNameError\u001b[0m: name 'u_hat' is not defined"
     ]
    }
   ],
   "source": [
    "u_hat.shape"
   ]
  },
  {
   "cell_type": "code",
   "execution_count": 84,
   "metadata": {},
   "outputs": [
    {
     "name": "stdout",
     "output_type": "stream",
     "text": [
      "11\n"
     ]
    },
    {
     "ename": "ValueError",
     "evalue": "`x0` must have at most 1 dimension.",
     "output_type": "error",
     "traceback": [
      "\u001b[0;31m---------------------------------------------------------------------------\u001b[0m",
      "\u001b[0;31mValueError\u001b[0m                                Traceback (most recent call last)",
      "\u001b[0;32m<ipython-input-84-a4e7707bfa23>\u001b[0m in \u001b[0;36m<module>\u001b[0;34m()\u001b[0m\n\u001b[1;32m     28\u001b[0m \u001b[0mparams_init\u001b[0m \u001b[0;34m=\u001b[0m \u001b[0mparameters\u001b[0m\u001b[0;34m(\u001b[0m\u001b[0mA\u001b[0m\u001b[0;34m,\u001b[0m\u001b[0mRt\u001b[0m\u001b[0;34m,\u001b[0m\u001b[0;36m0\u001b[0m\u001b[0;34m,\u001b[0m\u001b[0;36m0\u001b[0m\u001b[0;34m)\u001b[0m\u001b[0;34m\u001b[0m\u001b[0m\n\u001b[1;32m     29\u001b[0m \u001b[0;32mprint\u001b[0m\u001b[0;34m(\u001b[0m\u001b[0mparams_init\u001b[0m\u001b[0;34m.\u001b[0m\u001b[0mshape\u001b[0m\u001b[0;34m[\u001b[0m\u001b[0;36m0\u001b[0m\u001b[0;34m]\u001b[0m\u001b[0;34m)\u001b[0m\u001b[0;34m\u001b[0m\u001b[0m\n\u001b[0;32m---> 30\u001b[0;31m \u001b[0mres\u001b[0m \u001b[0;34m=\u001b[0m \u001b[0mleast_squares\u001b[0m\u001b[0;34m(\u001b[0m\u001b[0mfun\u001b[0m\u001b[0;34m,\u001b[0m\u001b[0mx0\u001b[0m\u001b[0;34m=\u001b[0m\u001b[0mparams_init\u001b[0m\u001b[0;34m,\u001b[0m\u001b[0mmethod\u001b[0m\u001b[0;34m=\u001b[0m\u001b[0;34m'lm'\u001b[0m\u001b[0;34m)\u001b[0m\u001b[0;34m\u001b[0m\u001b[0m\n\u001b[0m",
      "\u001b[0;32m/usr/lib/python2.7/dist-packages/scipy/optimize/_lsq/least_squares.pyc\u001b[0m in \u001b[0;36mleast_squares\u001b[0;34m(fun, x0, jac, bounds, method, ftol, xtol, gtol, x_scale, loss, f_scale, diff_step, tr_solver, tr_options, jac_sparsity, max_nfev, verbose, args, kwargs)\u001b[0m\n\u001b[1;32m    740\u001b[0m \u001b[0;34m\u001b[0m\u001b[0m\n\u001b[1;32m    741\u001b[0m     \u001b[0;32mif\u001b[0m \u001b[0mx0\u001b[0m\u001b[0;34m.\u001b[0m\u001b[0mndim\u001b[0m \u001b[0;34m>\u001b[0m \u001b[0;36m1\u001b[0m\u001b[0;34m:\u001b[0m\u001b[0;34m\u001b[0m\u001b[0m\n\u001b[0;32m--> 742\u001b[0;31m         \u001b[0;32mraise\u001b[0m \u001b[0mValueError\u001b[0m\u001b[0;34m(\u001b[0m\u001b[0;34m\"`x0` must have at most 1 dimension.\"\u001b[0m\u001b[0;34m)\u001b[0m\u001b[0;34m\u001b[0m\u001b[0m\n\u001b[0m\u001b[1;32m    743\u001b[0m \u001b[0;34m\u001b[0m\u001b[0m\n\u001b[1;32m    744\u001b[0m     \u001b[0mlb\u001b[0m\u001b[0;34m,\u001b[0m \u001b[0mub\u001b[0m \u001b[0;34m=\u001b[0m \u001b[0mprepare_bounds\u001b[0m\u001b[0;34m(\u001b[0m\u001b[0mbounds\u001b[0m\u001b[0;34m,\u001b[0m \u001b[0mx0\u001b[0m\u001b[0;34m.\u001b[0m\u001b[0mshape\u001b[0m\u001b[0;34m[\u001b[0m\u001b[0;36m0\u001b[0m\u001b[0;34m]\u001b[0m\u001b[0;34m)\u001b[0m\u001b[0;34m\u001b[0m\u001b[0m\n",
      "\u001b[0;31mValueError\u001b[0m: `x0` must have at most 1 dimension."
     ]
    }
   ],
   "source": [
    "from scipy.optimize import least_squares\n",
    "def fun(params):\n",
    "    corners=corner_points \n",
    "    Homographies=Homographies[:,:,1:]\n",
    "    A = np.reshape(params[:9],(3,3))\n",
    "    K = np.reshape(params[9:11],(2,1))\n",
    "    w_xy = []\n",
    "    for i in range(6):\n",
    "        for j in range(9):\n",
    "    #             print(j,i)\n",
    "            w_xy.append([21.5*(j+1),21.5*(i+1),0,1])\n",
    "    w_xyz = np.array(w_xy)\n",
    "    error=[]\n",
    "    for i in range(Homographies.shape[2]):\n",
    "        Rt = mat_params(A,Homographies[:,:,i])\n",
    "        img_pts = np.matmul(np.matmul(A,Rt),w_xyz.T)\n",
    "        u_hat = img_pts[0]/img_pts[2] + (img_pts[0]/img_pts[2] - A[0][2])*[(K[0]*((img_pts[0]/img_pts[2])**2 + (img_pts[1]/img_pts[2])**2)) +\n",
    "                                                        (K[1]*((img_pts[0]/img_pts[2])**2 + (img_pts[1]/img_pts[2])**2)**2)]\n",
    "        v_hat = img_pts[1]/img_pts[2] + (img_pts[1]/img_pts[2] - A[1][2])*[(K[0]*((img_pts[0]/img_pts[2])**2 + (img_pts[1]/img_pts[2])**2)) +\n",
    "                                                        (K[1]*((img_pts[0]/img_pts[2])**2 + (img_pts[1]/img_pts[2])**2)**2)]\n",
    "\n",
    "\n",
    "        proj = corner_points[:54,0:2]\n",
    "        reproj = np.reshape(np.array([u_hat,v_hat]),(2,54)).T\n",
    "        err = np.linalg.norm(proj - reproj)**2\n",
    "        error.append(err)\n",
    "    return np.array(error)\n",
    "params_init = parameters(A,Rt,0,0)\n",
    "print(params_init.shape[0])\n",
    "res = least_squares(fun,x0=params_init,method='lm')\n"
   ]
  },
  {
   "cell_type": "code",
   "execution_count": 78,
   "metadata": {},
   "outputs": [],
   "source": [
    "x = np.linalg.norm(proj-reproj)"
   ]
  },
  {
   "cell_type": "code",
   "execution_count": 60,
   "metadata": {},
   "outputs": [
    {
     "data": {
      "text/plain": [
       "array([ 383.66405836, 1544.91890434])"
      ]
     },
     "execution_count": 60,
     "metadata": {},
     "output_type": "execute_result"
    }
   ],
   "source": [
    "reproj = np.reshape(np.array([u_hat,v_hat]),(2,54)).T\n",
    "reproj[1]"
   ]
  },
  {
   "cell_type": "code",
   "execution_count": 51,
   "metadata": {},
   "outputs": [],
   "source": [
    "proj = corner_points[:54,0:2]"
   ]
  },
  {
   "cell_type": "code",
   "execution_count": 61,
   "metadata": {},
   "outputs": [
    {
     "data": {
      "text/plain": [
       "array([ 589.0631, 1513.3787], dtype=float32)"
      ]
     },
     "execution_count": 61,
     "metadata": {},
     "output_type": "execute_result"
    }
   ],
   "source": [
    "proj[1]"
   ]
  },
  {
   "cell_type": "code",
   "execution_count": 62,
   "metadata": {},
   "outputs": [
    {
     "data": {
      "text/plain": [
       "array([205.39905199, -31.54024223])"
      ]
     },
     "execution_count": 62,
     "metadata": {},
     "output_type": "execute_result"
    }
   ],
   "source": [
    "proj[1]-reproj[1]"
   ]
  },
  {
   "cell_type": "code",
   "execution_count": null,
   "metadata": {},
   "outputs": [],
   "source": []
  }
 ],
 "metadata": {
  "kernelspec": {
   "display_name": "Python 2",
   "language": "python",
   "name": "python2"
  },
  "language_info": {
   "codemirror_mode": {
    "name": "ipython",
    "version": 2
   },
   "file_extension": ".py",
   "mimetype": "text/x-python",
   "name": "python",
   "nbconvert_exporter": "python",
   "pygments_lexer": "ipython2",
   "version": "2.7.12"
  }
 },
 "nbformat": 4,
 "nbformat_minor": 2
}
