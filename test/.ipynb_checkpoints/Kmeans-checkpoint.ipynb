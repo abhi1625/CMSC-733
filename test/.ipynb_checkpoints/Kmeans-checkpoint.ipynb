{
 "cells": [
  {
   "cell_type": "code",
   "execution_count": null,
   "metadata": {},
   "outputs": [],
   "source": [
    "import cv2\n",
    "import numpy as np\n",
    "import matplotlib.pyplot as plt\n",
    "import sklearn.cluster \n",
    "\n",
    "def texton(Img, num_clusters, filter_bank, num_filters):\n",
    "    img = cv2.imread(Img,0)  #0 for reading img in grayscale\n",
    "    tex_map = np.array()\n",
    "    for i in range(num_filters):\n",
    "        out = cv2.filter2d(img,filter[i])\n",
    "        tex_map = np.dstack(tex_map, out)\n"
   ]
  }
 ],
 "metadata": {
  "kernelspec": {
   "display_name": "Python 2",
   "language": "python",
   "name": "python2"
  },
  "language_info": {
   "codemirror_mode": {
    "name": "ipython",
    "version": 2
   },
   "file_extension": ".py",
   "mimetype": "text/x-python",
   "name": "python",
   "nbconvert_exporter": "python",
   "pygments_lexer": "ipython2",
   "version": "2.7.12"
  }
 },
 "nbformat": 4,
 "nbformat_minor": 2
}
